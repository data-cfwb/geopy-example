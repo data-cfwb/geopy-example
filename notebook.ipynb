{
 "cells": [
  {
   "cell_type": "code",
   "execution_count": 34,
   "id": "ce56c864",
   "metadata": {},
   "outputs": [
    {
     "name": "stdout",
     "output_type": "stream",
     "text": [
      "\u001b[33mDEPRECATION: Configuring installation scheme with distutils config files is deprecated and will no longer work in the near future. If you are using a Homebrew or Linuxbrew Python, please see discussion at https://github.com/Homebrew/homebrew-core/issues/76621\u001b[0m\u001b[33m\n",
      "\u001b[0mRequirement already satisfied: geopy in /opt/homebrew/lib/python3.9/site-packages (2.2.0)\n",
      "Requirement already satisfied: geographiclib<2,>=1.49 in /opt/homebrew/lib/python3.9/site-packages (from geopy) (1.52)\n",
      "\u001b[33mDEPRECATION: Configuring installation scheme with distutils config files is deprecated and will no longer work in the near future. If you are using a Homebrew or Linuxbrew Python, please see discussion at https://github.com/Homebrew/homebrew-core/issues/76621\u001b[0m\u001b[33m\n",
      "\u001b[0m\u001b[33mWARNING: You are using pip version 22.0.3; however, version 22.0.4 is available.\n",
      "You should consider upgrading via the '/opt/homebrew/opt/python@3.9/bin/python3.9 -m pip install --upgrade pip' command.\u001b[0m\u001b[33m\n",
      "\u001b[0m"
     ]
    }
   ],
   "source": [
    "!pip install geopy\n",
    "\n",
    "import pandas as pd\n",
    "from geopy.geocoders import Nominatim"
   ]
  },
  {
   "cell_type": "code",
   "execution_count": 35,
   "id": "f6318f86",
   "metadata": {},
   "outputs": [],
   "source": [
    "# csv to pandas dataframe\n",
    "def csv_to_df(file_name):\n",
    "    df = pd.read_csv(file_name)\n",
    "    print(df.head())\n",
    "    return df"
   ]
  },
  {
   "cell_type": "markdown",
   "id": "914ae776",
   "metadata": {},
   "source": [
    "# From Lat/Lng to Address"
   ]
  },
  {
   "cell_type": "code",
   "execution_count": 40,
   "id": "f697980a",
   "metadata": {},
   "outputs": [
    {
     "name": "stdout",
     "output_type": "stream",
     "text": [
      "{'house_number': '5', 'road': \"Rue de l'Enseignement\", 'city_district': 'Sprimont', 'municipality': 'Sprimont', 'county': 'Liège', 'state': 'Liège', 'region': 'Wallonie', 'postcode': '4140', 'country': 'België / Belgique / Belgien', 'country_code': 'be'}\n",
      "{'road': 'Avenue Carl Requette - Carl Requettelaan', 'town': 'Molenbeek-Saint-Jean - Sint-Jans-Molenbeek', 'county': 'Brussel-Hoofdstad - Bruxelles-Capitale', 'region': 'Région de Bruxelles-Capitale - Brussels Hoofdstedelijk Gewest', 'ISO3166-2-lvl4': 'BE-BRU', 'postcode': '1080', 'country': 'België / Belgique / Belgien', 'country_code': 'be'}\n"
     ]
    }
   ],
   "source": [
    "data = csv_to_df(file_name='./source/geo_geoloc.csv')\n",
    "\n",
    "# loop trough dataframe\n",
    "for index, row in data.iterrows():\n",
    "\n",
    "    geolocator = Nominatim(user_agent=\"geo-locating-app-demo\")\n",
    "   \n",
    "    lat = row['lat']\n",
    "    lng = row['lng']\n",
    "    lat_lng = str(lat) + ',' + str(lng)\n",
    "\n",
    "    location = geolocator.reverse(lat_lng)\n",
    "\n",
    "    if location is not None:\n",
    "        address = location.raw['address']\n",
    "        print(address)\n",
    "    else:\n",
    "        print('No address found')\n",
    "\n",
    "    full_address = ''\n",
    "\n",
    "    # loop through address dict\n",
    "    for key, value in address.items():\n",
    "        full_address += key + \": \" + value + \" \"\n",
    "\n",
    "    data.loc[index, 'full_address'] = full_address\n",
    "\n",
    "\n",
    "# save dataframe to new csv file\n",
    "data.to_csv('./dest/geo_out.csv', index=False)"
   ]
  },
  {
   "cell_type": "markdown",
   "id": "ba2efac9",
   "metadata": {},
   "source": [
    "# From Address to Lat/Lng"
   ]
  },
  {
   "cell_type": "code",
   "execution_count": 43,
   "id": "10acd460",
   "metadata": {},
   "outputs": [
    {
     "name": "stdout",
     "output_type": "stream",
     "text": [
      "   id          address  postal_code       city  country\n",
      "0   1   Rue du Chêne 2         1000  Bruxelles  Belgium\n",
      "1   2  Grand Route 134         4130     Neupré  Belgium\n",
      "50.8444736 4.350556\n",
      "50.5285449 5.5291691499999995\n"
     ]
    }
   ],
   "source": [
    "data = csv_to_df(file_name='./source/geo_address.csv')\n",
    "\n",
    "print(data.head())\n",
    "\n",
    "# loop trough dataframe\n",
    "for index, row in data.iterrows():\n",
    "\n",
    "    geolocator = Nominatim(user_agent=\"geo-locating-app-demo\")\n",
    "   \n",
    "    address = row['address']\n",
    "    postal_code = row['postal_code']\n",
    "    city = row['city']\n",
    "    country = row['country']\n",
    "\n",
    "    address = address + ' ' + str(postal_code) + ' ' + city + ' ' + country\n",
    "    location = geolocator.geocode(address)\n",
    "\n",
    "\n",
    "    if location is not None:\n",
    "        print(location.latitude, location.longitude)\n",
    "        data.loc[index, 'lat'] = location.latitude\n",
    "        data.loc[index, 'lng'] = location.longitude\n",
    "    else:\n",
    "        print('No address found')\n",
    "\n",
    "\n",
    "# save dataframe to new csv file\n",
    "data.to_csv('./dest/geo_out.csv', index=False)"
   ]
  }
 ],
 "metadata": {
  "kernelspec": {
   "display_name": "Python 3 (ipykernel)",
   "language": "python",
   "name": "python3"
  },
  "language_info": {
   "codemirror_mode": {
    "name": "ipython",
    "version": 3
   },
   "file_extension": ".py",
   "mimetype": "text/x-python",
   "name": "python",
   "nbconvert_exporter": "python",
   "pygments_lexer": "ipython3",
   "version": "3.9.9"
  }
 },
 "nbformat": 4,
 "nbformat_minor": 5
}
